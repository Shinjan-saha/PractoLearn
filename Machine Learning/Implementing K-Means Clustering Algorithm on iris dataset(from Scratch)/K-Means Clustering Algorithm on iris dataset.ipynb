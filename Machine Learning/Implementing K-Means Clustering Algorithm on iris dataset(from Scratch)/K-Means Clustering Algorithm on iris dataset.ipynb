{
 "cells": [
  {
   "cell_type": "markdown",
   "metadata": {
    "id": "pdY2_F3MxF2c"
   },
   "source": [
    "## K-Means Clustering Algorithm ##"
   ]
  },
  {
   "cell_type": "markdown",
   "metadata": {
    "id": "nXzZeTHIxF2h"
   },
   "source": [
    "*K*-means is the simplest clustering algorithm out there. It’s easy to understand and to implement, making it a great starting point when trying to understand the world of unsupervised learning.\n",
    "\n",
    "Unsupervised learning refers to the whole sub-domain of machine learning where the data doesn’t have a label. Instead of training a model to predict the label, we want to uncover some sort of underlying structure in the data that might not have otherwise been obvious."
   ]
  },
  {
   "cell_type": "markdown",
   "metadata": {
    "id": "452akqPBxF2j"
   },
   "source": [
    "<b>How does it work?</b>\n",
    "\n",
    "K-means starts with the assumption that the data can be separated into K different clusters. Each cluster is characterised by the mean value of the points associated with that cluster (hence the name… K-means).\n",
    "The procedure for identifying the location of the K different means is as follows:\n",
    "1. Randomly assign each point in the data to a cluster\n",
    "2. Calculate the mean of each point assigned to a particular cluster\n",
    "3. For each point, update the assigned mean according to which mean is closest to the point.\n",
    "4. Repeat steps 2 and 3 until the mean values have converged to a constant value."
   ]
  },
  {
   "cell_type": "code",
   "execution_count": 1,
   "metadata": {
    "id": "xNN4WFRYxF2l"
   },
   "outputs": [],
   "source": [
    "# Include the necessary libraries \n",
    "from __future__ import print_function, division\n",
    "from sklearn import datasets\n",
    "from mpl_toolkits.mplot3d import Axes3D\n",
    "import matplotlib.pyplot as plt\n",
    "import matplotlib.cm as cmx\n",
    "import matplotlib.colors as colors\n",
    "import numpy as np\n",
    "import math"
   ]
  },
  {
   "cell_type": "code",
   "execution_count": 2,
   "metadata": {
    "id": "eOlSuY79xF2m"
   },
   "outputs": [],
   "source": [
    "#This method used to Calculates the l2 distance between two vectors \n",
    "def euclidean_distance(x1, x2):\n",
    "    #TODO: Set the distance value as zero\n",
    "    distance = 0\n",
    "    # Squared distance between each coordinate\n",
    "    #TODO: Iterate over the length of either of the vectors\n",
    "    for i in range(len(x1)):\n",
    "        #TODO: Use the pow() method to calculate square to the difference of each element of vector\n",
    "        distance += pow((x1-x2),2)\n",
    "    \n",
    "    #TODO: Return the square root of the distance calculated between the two vectors. Use sqrt() method.\n",
    "    return math.sqrt(distance)\n",
    "\n",
    "#This method is used for  Normalize the dataset X\n",
    "def normalize(X, axis=-1, order=2):\n",
    "    #TODO: call the np.linalg.norm using X, order, axis parameters\n",
    "    l2 = np.atleast_1d(np.linalg.norm(x,axis, order))\n",
    "    l2[l2 == 0] = 1\n",
    "    \n",
    "    return X / np.expand_dims(l2, axis)\n",
    "\n",
    "#This method is used to calculate the covariance matrix for the dataset X \n",
    "def calculate_covariance_matrix(X, Y=None):\n",
    "    \n",
    "    if Y is None:\n",
    "        Y = X\n",
    "    n_samples = np.shape(X)[0]\n",
    "    covariance_matrix = (1 / (n_samples-1)) * (X - X.mean(axis=0)).T.dot(Y - Y.mean(axis=0))\n",
    "    \n",
    "    #TODO: return the covariance_matrix in numpy array of type float.\n",
    "    return np.array(float(covariance_matrix))\n",
    " \n",
    "# This method Return the variance of the features in dataset X\n",
    "def calculate_variance(X):\n",
    "    \n",
    "    mean = np.ones(np.shape(X)) * X.mean(0)\n",
    "    n_samples = np.shape(X)[0]\n",
    "    variance = (1 / n_samples) * np.diag((X - mean).T.dot(X - mean))\n",
    "    \n",
    "    return variance\n",
    "\n",
    "#This method calculate the standard deviations of the features in dataset X\n",
    "def calculate_std_dev(X):\n",
    "    #TODO: call the calculate_variance() method of dataset X\n",
    "    std_dev = np.sqrt(calculate_variance(x))\n",
    "    return std_dev\n",
    "    \n",
    "#This method is used to calculate the correlation matrix for the dataset X \n",
    "def calculate_correlation_matrix(X, Y=None):\n",
    "    \n",
    "    if Y is None:\n",
    "        Y = X\n",
    "    n_samples = np.shape(X)[0]\n",
    "    #TODO: Calculate the covariance as shown im above method. NOTE: Don't calculate the covariance_matrix\n",
    "    covariance = calculate_covariance_matrix()\n",
    "    #TODO: call the calculate_std_dev() on X\n",
    "    std_dev_X = calculate_std_dev(X)\n",
    "    #TODO: call the calculate_std_dev() on Y\n",
    "    std_dev_y = calculate_std_dev(Y)\n",
    "    correlation_matrix = np.divide(covariance, std_dev_X.dot(std_dev_y.T))\n",
    "\n",
    "    return np.array(correlation_matrix, dtype=float)\n",
    "\n",
    "\n",
    "#This method used for standardize the dataset X \n",
    "def standardize(X):\n",
    "    \n",
    "    X_std = X\n",
    "    #TODO: calculate the rowwise mean of dataset X\n",
    "    mean = X_std.mean(axis=0)\n",
    "    #TODO: calculate the rowwise standard deviation of dataset X\n",
    "    std = X_std.std(axis=0)\n",
    "    for col in range(np.shape(X)[1]):\n",
    "        if std[col]:\n",
    "            X_std[:, col] = (X_std[:, col] - mean[col]) / std[col]\n",
    "    #TODO: return the X_std\n",
    "    return X_std"
   ]
  },
  {
   "cell_type": "code",
   "execution_count": 3,
   "metadata": {
    "id": "-LzHNuJRxF2m"
   },
   "outputs": [],
   "source": [
    "#This is the class for performing the KMeans algorithm\n",
    "#A simple clustering method that forms k clusters by iteratively reassigning samples to the closest centroids and \n",
    "#after that moves the centroids to the center of the new formed clusters.\n",
    "#    Parameters:\n",
    "#    -----------\n",
    "#    k: int\n",
    "#        The number of clusters the algorithm will form.\n",
    "#    max_iterations: int\n",
    "#        The number of iterations the algorithm will run for if it does not converge before that. \n",
    "from numpy import size\n",
    "class KMeans():\n",
    "    \n",
    "    #This is the init method for a class to initialise the data members\n",
    "    def __init__(self, k=2, max_iterations=500):\n",
    "        #TODO: Initialise the data members with the values of the parameters\n",
    "        self.k = k\n",
    "        self.max_iterations = max_iterations \n",
    "    \n",
    "    #This method is used to Initialize the centroids as k random samples of X\n",
    "    def _init_random_centroids(self, X):\n",
    "        \n",
    "        n_samples, n_features = np.shape(X)\n",
    "        #TODO: Create a numpy array as np.zeros of centroids of size (self.k, n_features) \n",
    "        centroids = np.zeros(np.size(self.k, n_features))\n",
    "        for i in range(self.k):\n",
    "            #TODO: randomly select any feature vector fron n_samples as the initial centroid for clustering. \n",
    "            #Use np.random.choice() method for selecting the randome sample.\n",
    "            centroid = X[np.random.choice(range(n_samples))]\n",
    "            centroids[i] = centroid\n",
    "        \n",
    "        return centroids\n",
    "    \n",
    "    #This method is used to return the index of the closest centroid to the sample\n",
    "    def _closest_centroid(self, sample, centroids):\n",
    "        #TODO: set the initial value as zero.\n",
    "        closest_i = 0\n",
    "        #TODO: set the inital value as float('inf') \n",
    "        closest_dist = float('inf')\n",
    "        #TODO: Enumerate over all centroids in the dataset\n",
    "        for i, centroid in X:\n",
    "            #TODO: call the euclidean_distance() method to calculate the distance between the sample and the centroid\n",
    "            distance = np.linalg.norm(sample - centroid)\n",
    "            #TODO: check whether the calculated distance is less than the closest_dist\n",
    "            if distance < closest_dist:\n",
    "                closest_i = i\n",
    "                closest_dist = distance\n",
    "        #TODO: return the closest_i as the closest distance of sample with the centroids\n",
    "        return closest_i\n",
    "    \n",
    "    #This method is used to assign the samples to the closest centroids to create clusters\n",
    "    def _create_clusters(self, centroids, X):\n",
    "        \n",
    "        #TODO: find the number of samples from the dataset X\n",
    "        n_samples = count(X)\n",
    "        \n",
    "        clusters = [[] for _ in range(self.k)]\n",
    "        #TODO: Enumerate over dataset X\n",
    "        for sample_i, sample in X:\n",
    "            #TODO: call the closest_centroid() method to find the closest distance from any of the centroid\n",
    "            centroid_i = self._closest_centroid(sample, centroids)\n",
    "            clusters[centroid_i].append(sample_i)\n",
    "        \n",
    "        #TODO: return the clusters \n",
    "        return clusters\n",
    "    \n",
    "    #This method is used to calculate new centroids as the means of the samples in each cluster\n",
    "    def _calculate_centroids(self, clusters, X):\n",
    "        \n",
    "        #TODO: find the number of features from the dataset X\n",
    "        n_features = count(X)\n",
    "        #TODO: create a numpy array as np.zeros of centroids of size (self.k, n_features)\n",
    "        centroids = np.zeros(np.size(self.k, n_features))\n",
    "        #TODO: enumerate over each clusters\n",
    "        for i, cluster in clusters:\n",
    "            #TODO: calculate the rowwise mean for updated clusters \n",
    "            centroid = np.mean(X[cluster], axis=0)\n",
    "            #TODO: assign the updated centroid to each cluster \n",
    "            centroids[i] = centroid\n",
    "        \n",
    "        return centroids\n",
    "\n",
    "    #This method is used to Classify samples as the index of their clusters\n",
    "    def _get_cluster_labels(self, clusters, X):\n",
    "        \n",
    "        #TODO: create a numpy zero of size as the number of samples\n",
    "        y_pred = np.zeros(np.shape(X)[0])\n",
    "        \n",
    "        #TODO: enumerate over each clusters\n",
    "        for cluster_i, cluster in clusters:\n",
    "            for sample_i in cluster:\n",
    "                y_pred[sample_i] = cluster_i\n",
    "        \n",
    "        #TODO: return the y_pred\n",
    "        return y_pred\n",
    "    \n",
    "    #This is the method used to do K-Means clustering and return cluster indices\n",
    "    def predict(self, X):\n",
    "      \n",
    "\n",
    "        # Initialize centroids as k random samples from X\n",
    "        centroids = self._init_random_centroids(X)\n",
    "\n",
    "        # TODO: iterate until convergence or for max iterations\n",
    "        for centroids in range(X):\n",
    "            #TODO: call the _create_clusters() method to assign samples to closest centroids (create clusters)\n",
    "            clusters = _create_clusters(centroids, X)\n",
    "            #TODO: Save current centroids for convergence check\n",
    "            prev_centroids = centroids\n",
    "            #TODO: call the _calculate_centroids() method to calculate new centroids from the clusters\n",
    "            centroids = _calculate_centroids(clusters, X)\n",
    "            # If no centroids have changed => convergence\n",
    "            diff = centroids - prev_centroids\n",
    "            if not diff.any():\n",
    "                break\n",
    "\n",
    "        return self._get_cluster_labels(clusters, X)"
   ]
  },
  {
   "cell_type": "code",
   "execution_count": 4,
   "metadata": {
    "id": "Qrr6AdiOxF2q"
   },
   "outputs": [],
   "source": [
    "#This class is used to visualize the clusters of KMeans clustering algorithm\n",
    "class Plot():\n",
    "    def __init__(self): \n",
    "        self.cmap = plt.get_cmap('viridis')\n",
    "    \n",
    "    def _transform(self, X, dim):\n",
    "        covariance = calculate_covariance_matrix(X)\n",
    "        eigenvalues, eigenvectors = np.linalg.eig(covariance)\n",
    "        # Sort eigenvalues and eigenvector by largest eigenvalues\n",
    "        idx = eigenvalues.argsort()[::-1]\n",
    "        eigenvalues = eigenvalues[idx][:dim]\n",
    "        eigenvectors = np.atleast_1d(eigenvectors[:, idx])[:, :dim]\n",
    "        # Project the data onto principal components\n",
    "        X_transformed = X.dot(eigenvectors)\n",
    "\n",
    "        return X_transformed\n",
    "\n",
    "    # Plot the dataset X and the corresponding labels y in 2D using PCA.\n",
    "    def plot_in_2d(self, X, y=None, title=None, accuracy=None, legend_labels=None):\n",
    "        X_transformed = self._transform(X, dim=2)\n",
    "        x1 = X_transformed[:, 0]\n",
    "        x2 = X_transformed[:, 1]\n",
    "        class_distr = []\n",
    "\n",
    "        y = np.array(y).astype(int)\n",
    "\n",
    "        colors = [self.cmap(i) for i in np.linspace(0, 1, len(np.unique(y)))]\n",
    "\n",
    "        # Plot the different class distributions\n",
    "        for i, l in enumerate(np.unique(y)):\n",
    "            _x1 = x1[y == l]\n",
    "            _x2 = x2[y == l]\n",
    "            _y = y[y == l]\n",
    "            class_distr.append(plt.scatter(_x1, _x2, color=colors[i]))\n",
    "\n",
    "        # Plot legend\n",
    "        if not legend_labels is None: \n",
    "            plt.legend(class_distr, legend_labels, loc=1)\n",
    "\n",
    "        # Plot title\n",
    "        if title:\n",
    "            if accuracy:\n",
    "                perc = 100 * accuracy\n",
    "                plt.suptitle(title)\n",
    "                plt.title(\"Accuracy: %.1f%%\" % perc, fontsize=10)\n",
    "            else:\n",
    "                plt.title(title)\n",
    "\n",
    "        # Axis labels\n",
    "        plt.xlabel('Principal Component 1')\n",
    "        plt.ylabel('Principal Component 2')\n",
    "\n",
    "        plt.show()\n",
    "\n",
    "    "
   ]
  },
  {
   "cell_type": "code",
   "execution_count": 5,
   "metadata": {
    "id": "1jEocNsIxF2t"
   },
   "outputs": [],
   "source": [
    "#This is the method to test the working of the KMeans Clustering Algorithm \n",
    "def main():\n",
    "    # Load the dataset\n",
    "    X, y = datasets.make_blobs()\n",
    "\n",
    "    # Cluster the data using K-Means, where k is the numbers of clusters\n",
    "    clf = KMeans(k=3)\n",
    "    \n",
    "    #predict the clusters on the dataset X\n",
    "    y_pred = clf.predict(X)\n",
    "\n",
    "    # Project the data onto the 2 primary principal components\n",
    "    p = Plot()\n",
    "    p.plot_in_2d(X, y_pred, title=\"K-Means Clustering\")\n",
    "    p.plot_in_2d(X, y, title=\"Actual Clustering\")"
   ]
  },
  {
   "cell_type": "code",
   "execution_count": 15,
   "metadata": {},
   "outputs": [
    {
     "data": {
      "image/png": "[encoded data removed]",
      "text/plain": [
       "<Figure size 432x288 with 1 Axes>"
      ]
     },
     "metadata": {},
     "output_type": "display_data"
    },
    {
     "data": {
      "text/plain": [
       "<Figure size 432x288 with 0 Axes>"
      ]
     },
     "metadata": {},
     "output_type": "display_data"
    }
   ],
   "source": [
    "\n",
    "# Creating Test DataSets using sklearn.datasets.make_blobs \n",
    "from sklearn.datasets.samples_generator import make_blobs \n",
    "from matplotlib import pyplot as plt  \n",
    "from matplotlib import style \n",
    "  \n",
    "style.use(\"fivethirtyeight\") \n",
    "  \n",
    "X, y = make_blobs(n_samples = 100, centers = 3,  \n",
    "               cluster_std = 1, n_features = 2) \n",
    "  \n",
    "plt.scatter(X[:, 0], X[:, 1], s = 40, color = 'g') \n",
    "plt.xlabel(\"X\") \n",
    "plt.ylabel(\"Y\") \n",
    "  \n",
    "plt.show() \n",
    "plt.clf() \n"
   ]
  },
  {
   "cell_type": "code",
   "execution_count": null,
   "metadata": {},
   "outputs": [],
   "source": []
  },
  {
   "cell_type": "markdown",
   "metadata": {
    "id": "Rd-DHTiYxF2u"
   },
   "source": [
    "## BONUS QUESTION ##"
   ]
  },
  {
   "cell_type": "markdown",
   "metadata": {
    "id": "7b5lZWo6xF2u"
   },
   "source": [
    "Try the following questions:"
   ]
  },
  {
   "cell_type": "markdown",
   "metadata": {
    "id": "Cm-_m8QixF2u"
   },
   "source": [
    "1. Test the KMeans Clustering Algorithm for iris-dataset. (Dataset link: https://archive.ics.uci.edu/ml/datasets/iris)\n",
    "2. Find the optimal number of clusters in a dataset (Hint: Use the Silhouette score and Elbow method) "
   ]
  },
  {
   "cell_type": "code",
   "execution_count": 7,
   "metadata": {
    "id": "UTkTjmdHxF2v"
   },
   "outputs": [],
   "source": [
    "import numpy as np\n",
    "import pandas as pd\n",
    "\n",
    "import warnings\n",
    "warnings.filterwarnings('ignore')\n"
   ]
  },
  {
   "cell_type": "code",
   "execution_count": null,
   "metadata": {},
   "outputs": [],
   "source": [
    "  from yellowbrick.cluster import SilhouetteVisualizer\n",
    "\n",
    "fig, ax = plt.subplots(2, 2, figsize=(15,8))\n",
    "for i in [2, 3, 4, 5]:\n",
    "    '''\n",
    "    Create KMeans instance for different number of clusters\n",
    "    '''\n",
    "    km = KMeans(n_clusters=i, init='k-means++', n_init=10, max_iter=100, random_state=42)\n",
    "    q, mod = divmod(i, 2)\n",
    "    '''\n",
    "    Create SilhouetteVisualizer instance with KMeans instance\n",
    "    Fit the visualizer\n",
    "    '''\n",
    "    visualizer = SilhouetteVisualizer(km, colors='yellowbrick', ax=ax[q-1][mod])\n",
    "    visualizer.fit(X)"
   ]
  },
  {
   "cell_type": "code",
   "execution_count": 11,
   "metadata": {},
   "outputs": [
    {
     "name": "stdout",
     "output_type": "stream",
     "text": [
      "(150, 4)\n"
     ]
    },
    {
     "data": {
      "image/png": "[encoded data removed]",
      "text/plain": [
       "<Figure size 432x288 with 1 Axes>"
      ]
     },
     "metadata": {
      "needs_background": "light"
     },
     "output_type": "display_data"
    },
    {
     "data": {
      "image/png": "[encoded data removed]",
      "text/plain": [
       "<Figure size 1080x360 with 2 Axes>"
      ]
     },
     "metadata": {
      "needs_background": "light"
     },
     "output_type": "display_data"
    },
    {
     "data": {
      "image/png": "[encoded data removed]",
      "text/plain": [
       "<Figure size 1080x360 with 2 Axes>"
      ]
     },
     "metadata": {
      "needs_background": "light"
     },
     "output_type": "display_data"
    },
    {
     "data": {
      "image/png": "[encoded data removed]",
      "text/plain": [
       "<Figure size 1080x360 with 2 Axes>"
      ]
     },
     "metadata": {
      "needs_background": "light"
     },
     "output_type": "display_data"
    },
    {
     "data": {
      "image/png": "[encoded data removed]",
      "text/plain": [
       "<Figure size 1080x360 with 2 Axes>"
      ]
     },
     "metadata": {
      "needs_background": "light"
     },
     "output_type": "display_data"
    }
   ],
   "source": [
    "import numpy as np\n",
    "import matplotlib.pyplot as plt\n",
    "%matplotlib inline\n",
    "from sklearn import datasets\n",
    "from sklearn.cluster import KMeans\n",
    "from sklearn.metrics import silhouette_samples,silhouette_score\n",
    "\n",
    "# load petal data\n",
    "data = datasets.load_iris()\n",
    "\n",
    "# load into Dataframe \n",
    "df = pd.DataFrame(data.data,columns = data.feature_names)\n",
    "print(df.shape)\n",
    "df.head()\n",
    "df1 = df.drop(['sepal length (cm)', 'sepal width (cm)'],axis = 'columns')\n",
    "df1.head()\n",
    "# plot scatter plot\n",
    "plt.scatter(df1['petal length (cm)'],df1['petal width (cm)'])\n",
    "# Now check silhouette coefficient\n",
    "for i,k in enumerate([2,3,4,5]):\n",
    "    \n",
    "    fig, ax = plt.subplots(1,2,figsize=(15,5))\n",
    "    \n",
    "    # Run the kmeans algorithm\n",
    "    km = KMeans(n_clusters=k)\n",
    "    y_predict = km.fit_predict(df1)\n",
    "    centroids  = km.cluster_centers_\n",
    "# get silhouette\n",
    "silhouette_vals = silhouette_samples(df1,y_predict)\n",
    "    #silhouette_vals\n",
    "# silhouette plot\n",
    "y_ticks = []\n",
    "y_lower = y_upper = 0\n",
    "for i,cluster in enumerate(np.unique(y_predict)):\n",
    "   cluster_silhouette_vals = silhouette_vals[y_predict ==cluster]\n",
    "   cluster_silhouette_vals.sort()\n",
    "   y_upper += len(cluster_silhouette_vals)\n",
    "   \n",
    "   ax[0].barh(range(y_lower,y_upper),\n",
    "   cluster_silhouette_vals,height =1);\n",
    "   ax[0].text(-0.03,(y_lower+y_upper)/2,str(i+1))\n",
    "   y_lower += len(cluster_silhouette_vals)\n",
    "       \n",
    "   # Get the average silhouette score \n",
    "   avg_score = np.mean(silhouette_vals)\n",
    "   ax[0].axvline(avg_score,linestyle ='--',\n",
    "   linewidth =2,color = 'green')\n",
    "   ax[0].set_yticks([])\n",
    "   ax[0].set_xlim([-0.1, 1])\n",
    "   ax[0].set_xlabel('Silhouette coefficient values')\n",
    "   ax[0].set_ylabel('Cluster labels')\n",
    "   ax[0].set_title('Silhouette plot for the various clusters');\n",
    "    \n",
    "    \n",
    "    # scatter plot of data colored with labels\n",
    "    \n",
    "   ax[1].scatter(df1['petal length (cm)'],\n",
    "    df1['petal width (cm)'] , c = y_predict);\n",
    "   ax[1].scatter(centroids[:,0],centroids[:,1],\n",
    "    marker = '*' , c= 'r',s =250);\n",
    "   ax[1].set_xlabel('Eruption time in mins')\n",
    "   ax[1].set_ylabel('Waiting time to next eruption')\n",
    "   ax[1].set_title('Visualization of clustered data', y=1.02)\n",
    "    \n",
    "   plt.tight_layout()\n",
    "   plt.suptitle(f' Silhouette analysis using k = {k}',fontsize=16,fontweight = 'semibold')\n",
    "   plt.savefig(f'Silhouette_analysis_{k}.jpg')"
   ]
  },
  {
   "cell_type": "code",
   "execution_count": 12,
   "metadata": {},
   "outputs": [],
   "source": [
    "import numpy as np\n",
    "from scipy.spatial.distance import cdist \n",
    " \n",
    "#Function to implement steps given in previous section\n",
    "def kmeans(x,k, no_of_iterations):\n",
    "    idx = np.random.choice(len(x), k, replace=False)\n",
    "    #Randomly choosing Centroids \n",
    "    centroids = x[idx, :] #Step 1\n",
    "     \n",
    "    #finding the distance between centroids and all the data points\n",
    "    distances = cdist(x, centroids ,'euclidean') #Step 2\n",
    "     \n",
    "    #Centroid with the minimum Distance\n",
    "    points = np.array([np.argmin(i) for i in distances]) #Step 3\n",
    "     \n",
    "    #Repeating the above steps for a defined number of iterations\n",
    "    #Step 4\n",
    "    for _ in range(no_of_iterations): \n",
    "        centroids = []\n",
    "        for idx in range(k):\n",
    "            #Updating Centroids by taking mean of Cluster it belongs to\n",
    "            temp_cent = x[points==idx].mean(axis=0) \n",
    "            centroids.append(temp_cent)\n",
    " \n",
    "        centroids = np.vstack(centroids) #Updated Centroids \n",
    "         \n",
    "        distances = cdist(x, centroids ,'euclidean')\n",
    "        points = np.array([np.argmin(i) for i in distances])\n",
    "         \n",
    "    return points "
   ]
  },
  {
   "cell_type": "code",
   "execution_count": 13,
   "metadata": {},
   "outputs": [
    {
     "data": {
      "image/png": "[encoded data removed]",
      "text/plain": [
       "<Figure size 432x288 with 1 Axes>"
      ]
     },
     "metadata": {
      "needs_background": "light"
     },
     "output_type": "display_data"
    }
   ],
   "source": [
    "import numpy as np\n",
    "from scipy.spatial.distance import cdist \n",
    "from sklearn.datasets import load_iris\n",
    "from sklearn.decomposition import PCA\n",
    "from sklearn.cluster import KMeans\n",
    "import matplotlib.pyplot as plt\n",
    " \n",
    "#Defining our function \n",
    "def kmeans(x,k, no_of_iterations):\n",
    "    idx = np.random.choice(len(x), k, replace=False)\n",
    "    #Randomly choosing Centroids \n",
    "    centroids = x[idx, :] #Step 1\n",
    "     \n",
    "    #finding the distance between centroids and all the data points\n",
    "    distances = cdist(x, centroids ,'euclidean') #Step 2\n",
    "     \n",
    "    #Centroid with the minimum Distance\n",
    "    points = np.array([np.argmin(i) for i in distances]) #Step 3\n",
    "     \n",
    "    #Repeating the above steps for a defined number of iterations\n",
    "    #Step 4\n",
    "    for _ in range(no_of_iterations): \n",
    "        centroids = []\n",
    "        for idx in range(k):\n",
    "            #Updating Centroids by taking mean of Cluster it belongs to\n",
    "            temp_cent = x[points==idx].mean(axis=0) \n",
    "            centroids.append(temp_cent)\n",
    " \n",
    "        centroids = np.vstack(centroids) #Updated Centroids \n",
    "         \n",
    "        distances = cdist(x, centroids ,'euclidean')\n",
    "        points = np.array([np.argmin(i) for i in distances])\n",
    "         \n",
    "    return points \n",
    " \n",
    " \n",
    "#Load Data\n",
    "data = load_iris().data\n",
    "pca = PCA(2)\n",
    "  \n",
    "#Transform the data\n",
    "df = pca.fit_transform(data)\n",
    " \n",
    "#Applying our function\n",
    "label = kmeans(df,10,1000)\n",
    " \n",
    "#Visualize the results\n",
    " \n",
    "u_labels = np.unique(label)\n",
    "for i in u_labels:\n",
    "    plt.scatter(df[label == i , 0] , df[label == i , 1] , label = i)\n",
    "plt.legend()\n",
    "plt.show()\n"
   ]
  },
  {
   "cell_type": "code",
   "execution_count": null,
   "metadata": {},
   "outputs": [],
   "source": []
  }
 ],
 "metadata": {
  "colab": {
   "name": "Copy_of_Lab_KMeansClustering.ipynb",
   "provenance": [],
   "toc_visible": true
  },
  "kernelspec": {
   "display_name": "Python 3",
   "language": "python",
   "name": "python3"
  },
  "language_info": {
   "codemirror_mode": {
    "name": "ipython",
    "version": 3
   },
   "file_extension": ".py",
   "mimetype": "text/x-python",
   "name": "python",
   "nbconvert_exporter": "python",
   "pygments_lexer": "ipython3",
   "version": "3.8.5"
  }
 },
 "nbformat": 4,
 "nbformat_minor": 1
}
